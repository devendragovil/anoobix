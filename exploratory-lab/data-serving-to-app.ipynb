{
 "cells": [
  {
   "cell_type": "code",
   "execution_count": 78,
   "metadata": {},
   "outputs": [],
   "source": [
    "import boto3"
   ]
  },
  {
   "cell_type": "code",
   "execution_count": 79,
   "metadata": {},
   "outputs": [
    {
     "data": {
      "text/plain": [
       "True"
      ]
     },
     "execution_count": 79,
     "metadata": {},
     "output_type": "execute_result"
    }
   ],
   "source": [
    "import dotenv\n",
    "dotenv.load_dotenv()"
   ]
  },
  {
   "cell_type": "code",
   "execution_count": 80,
   "metadata": {},
   "outputs": [],
   "source": [
    "import os"
   ]
  },
  {
   "cell_type": "code",
   "execution_count": 81,
   "metadata": {},
   "outputs": [],
   "source": [
    "bt3s = boto3.Session(region_name='us-west-2',\n",
    "    aws_access_key_id=os.getenv('AWS_ACCESS_KEY_ID'),\n",
    "    aws_secret_access_key=os.getenv('AWS_SECRET_ACCESS_KEY')\n",
    ")\n",
    "ddb = bt3s.client('dynamodb')"
   ]
  },
  {
   "cell_type": "code",
   "execution_count": 82,
   "metadata": {},
   "outputs": [],
   "source": [
    "a = ddb.scan(TableName='trip-stream')"
   ]
  },
  {
   "cell_type": "code",
   "execution_count": 83,
   "metadata": {},
   "outputs": [
    {
     "data": {
      "text/plain": [
       "4"
      ]
     },
     "execution_count": 83,
     "metadata": {},
     "output_type": "execute_result"
    }
   ],
   "source": [
    "len(a)"
   ]
  },
  {
   "cell_type": "code",
   "execution_count": 84,
   "metadata": {},
   "outputs": [
    {
     "data": {
      "text/plain": [
       "1028"
      ]
     },
     "execution_count": 84,
     "metadata": {},
     "output_type": "execute_result"
    }
   ],
   "source": [
    "len(a['Items'])"
   ]
  },
  {
   "cell_type": "code",
   "execution_count": 96,
   "metadata": {},
   "outputs": [],
   "source": [
    "import json"
   ]
  },
  {
   "cell_type": "code",
   "execution_count": 105,
   "metadata": {},
   "outputs": [
    {
     "data": {
      "text/plain": [
       "{'stop_id': ['LAFY',\n",
       "  'ORIN',\n",
       "  'ROCK',\n",
       "  'MCAR',\n",
       "  '19TH',\n",
       "  '12TH',\n",
       "  'WOAK',\n",
       "  'EMBR',\n",
       "  'MONT',\n",
       "  'POWL',\n",
       "  'CIVC',\n",
       "  '16TH',\n",
       "  '24TH',\n",
       "  'GLEN',\n",
       "  'BALB',\n",
       "  'DALY',\n",
       "  'COLM',\n",
       "  'SSAN',\n",
       "  'SBRN'],\n",
       " 'delay': [52, 32, 0, 0, 0, 0, 0, 0, 0, 0, 0, 0, 0, 0, 0, 0, 0, 0, 0],\n",
       " 'time_expected': [1701974906,\n",
       "  1701975173,\n",
       "  1701975484,\n",
       "  1701975664,\n",
       "  1701975868,\n",
       "  1701975994,\n",
       "  1701976282,\n",
       "  1701976702,\n",
       "  1701976804,\n",
       "  1701976906,\n",
       "  1701977008,\n",
       "  1701977152,\n",
       "  1701977272,\n",
       "  1701977440,\n",
       "  1701977578,\n",
       "  1701977806,\n",
       "  1701978070,\n",
       "  1701978250,\n",
       "  1701978442]}"
      ]
     },
     "execution_count": 105,
     "metadata": {},
     "output_type": "execute_result"
    }
   ],
   "source": [
    "json.loads(a['Items'][0]['stop_time_update_dict']['S'])"
   ]
  },
  {
   "cell_type": "code",
   "execution_count": 8,
   "metadata": {},
   "outputs": [],
   "source": [
    "values = {\n",
    "    'timestamp_id': [],\n",
    "    'time_expected': [],\n",
    "    'trip_id': [],\n",
    "    'stop_id': [],\n",
    "    'delay': []\n",
    "}\n",
    "for item in a['Items']:\n",
    "    delay = int(item['delay']['S'])\n",
    "    stop_id = item['stop_id']['S']\n",
    "    trip_id = item['trip_id']['S']\n",
    "    timestamp_id = int(item['timestamp_id']['S'])\n",
    "    time_expected = int(item['time_expected']['S'])\n",
    "\n",
    "    values['delay'].append(delay)\n",
    "    values['time_expected'].append(time_expected)\n",
    "    values['trip_id'].append(trip_id)\n",
    "    values['stop_id'].append(stop_id)\n",
    "    values['timestamp_id'].append(timestamp_id)\n"
   ]
  },
  {
   "cell_type": "code",
   "execution_count": 9,
   "metadata": {},
   "outputs": [],
   "source": [
    "import pandas as pd"
   ]
  },
  {
   "cell_type": "code",
   "execution_count": 41,
   "metadata": {},
   "outputs": [],
   "source": [
    "df = pd.DataFrame(values).sort_values(by='timestamp_id', ascending=False)"
   ]
  },
  {
   "cell_type": "code",
   "execution_count": 11,
   "metadata": {},
   "outputs": [],
   "source": [
    "import time"
   ]
  },
  {
   "cell_type": "code",
   "execution_count": 12,
   "metadata": {},
   "outputs": [
    {
     "data": {
      "text/plain": [
       "'Thu Dec  7 07:47:34 2023'"
      ]
     },
     "execution_count": 12,
     "metadata": {},
     "output_type": "execute_result"
    }
   ],
   "source": [
    "time.ctime(1701964054)"
   ]
  },
  {
   "cell_type": "code",
   "execution_count": 13,
   "metadata": {},
   "outputs": [],
   "source": [
    "df_trips = pd.read_csv('../google_transit_20230911-20240101_v3/trips.txt')"
   ]
  },
  {
   "cell_type": "code",
   "execution_count": 14,
   "metadata": {},
   "outputs": [],
   "source": [
    "df_stops = pd.read_csv('../google_transit_20230911-20240101_v3/stops.txt')\n",
    "df_stop_times = pd.read_csv('../google_transit_20230911-20240101_v3/stop_times.txt')\n",
    "df_routes = pd.read_csv('../google_transit_20230911-20240101_v3/routes.txt')"
   ]
  },
  {
   "cell_type": "code",
   "execution_count": 16,
   "metadata": {},
   "outputs": [],
   "source": [
    "df_trips_rel = df_trips[['route_id', 'trip_id', 'direction_id']].copy()"
   ]
  },
  {
   "cell_type": "code",
   "execution_count": 17,
   "metadata": {},
   "outputs": [],
   "source": [
    "df_stop_times_rel = df_stop_times[['trip_id', 'arrival_time', 'stop_id']].copy()"
   ]
  },
  {
   "cell_type": "code",
   "execution_count": 18,
   "metadata": {},
   "outputs": [],
   "source": [
    "df_routes_rel = df_routes[['route_id', 'route_short_name', 'route_long_name']].copy()"
   ]
  },
  {
   "cell_type": "code",
   "execution_count": 19,
   "metadata": {},
   "outputs": [],
   "source": [
    "df_stops_rel = df_stops[['stop_id', 'stop_name', 'stop_lat', 'stop_lon']].copy()"
   ]
  },
  {
   "cell_type": "code",
   "execution_count": 20,
   "metadata": {},
   "outputs": [],
   "source": [
    "df_consolidated = df_trips_rel.merge(df_stop_times_rel, how='left', on='trip_id')\n",
    "df_consolidated = df_consolidated.merge(df_routes_rel, how='left', on='route_id')\n",
    "df_consolidated = df_consolidated.merge(df_stops_rel, how='left', on='stop_id')"
   ]
  },
  {
   "cell_type": "code",
   "execution_count": 21,
   "metadata": {},
   "outputs": [],
   "source": [
    "df_consolidated['direction_name'] = df_consolidated['direction_id'].apply(lambda x: 'South' if x ==1 else 'North')"
   ]
  },
  {
   "cell_type": "code",
   "execution_count": 22,
   "metadata": {},
   "outputs": [
    {
     "data": {
      "text/html": [
       "<div>\n",
       "<style scoped>\n",
       "    .dataframe tbody tr th:only-of-type {\n",
       "        vertical-align: middle;\n",
       "    }\n",
       "\n",
       "    .dataframe tbody tr th {\n",
       "        vertical-align: top;\n",
       "    }\n",
       "\n",
       "    .dataframe thead th {\n",
       "        text-align: right;\n",
       "    }\n",
       "</style>\n",
       "<table border=\"1\" class=\"dataframe\">\n",
       "  <thead>\n",
       "    <tr style=\"text-align: right;\">\n",
       "      <th></th>\n",
       "      <th>route_id</th>\n",
       "      <th>trip_id</th>\n",
       "      <th>direction_id</th>\n",
       "      <th>arrival_time</th>\n",
       "      <th>stop_id</th>\n",
       "      <th>route_short_name</th>\n",
       "      <th>route_long_name</th>\n",
       "      <th>stop_name</th>\n",
       "      <th>stop_lat</th>\n",
       "      <th>stop_lon</th>\n",
       "      <th>direction_name</th>\n",
       "    </tr>\n",
       "  </thead>\n",
       "  <tbody>\n",
       "    <tr>\n",
       "      <th>0</th>\n",
       "      <td>5</td>\n",
       "      <td>1462169</td>\n",
       "      <td>1</td>\n",
       "      <td>04:36:00</td>\n",
       "      <td>SHAY</td>\n",
       "      <td>Green-S</td>\n",
       "      <td>Berryessa/North San Jose to Daly City</td>\n",
       "      <td>South Hayward</td>\n",
       "      <td>37.634363</td>\n",
       "      <td>-122.057158</td>\n",
       "      <td>South</td>\n",
       "    </tr>\n",
       "    <tr>\n",
       "      <th>1</th>\n",
       "      <td>5</td>\n",
       "      <td>1462169</td>\n",
       "      <td>1</td>\n",
       "      <td>04:40:00</td>\n",
       "      <td>HAYW</td>\n",
       "      <td>Green-S</td>\n",
       "      <td>Berryessa/North San Jose to Daly City</td>\n",
       "      <td>Hayward</td>\n",
       "      <td>37.669731</td>\n",
       "      <td>-122.086941</td>\n",
       "      <td>South</td>\n",
       "    </tr>\n",
       "    <tr>\n",
       "      <th>2</th>\n",
       "      <td>5</td>\n",
       "      <td>1462169</td>\n",
       "      <td>1</td>\n",
       "      <td>04:44:00</td>\n",
       "      <td>BAYF</td>\n",
       "      <td>Green-S</td>\n",
       "      <td>Berryessa/North San Jose to Daly City</td>\n",
       "      <td>Bay Fair</td>\n",
       "      <td>37.696938</td>\n",
       "      <td>-122.126431</td>\n",
       "      <td>South</td>\n",
       "    </tr>\n",
       "    <tr>\n",
       "      <th>3</th>\n",
       "      <td>5</td>\n",
       "      <td>1462169</td>\n",
       "      <td>1</td>\n",
       "      <td>04:48:00</td>\n",
       "      <td>SANL</td>\n",
       "      <td>Green-S</td>\n",
       "      <td>Berryessa/North San Jose to Daly City</td>\n",
       "      <td>San Leandro</td>\n",
       "      <td>37.721806</td>\n",
       "      <td>-122.160713</td>\n",
       "      <td>South</td>\n",
       "    </tr>\n",
       "    <tr>\n",
       "      <th>4</th>\n",
       "      <td>5</td>\n",
       "      <td>1462169</td>\n",
       "      <td>1</td>\n",
       "      <td>04:52:00</td>\n",
       "      <td>COLS</td>\n",
       "      <td>Green-S</td>\n",
       "      <td>Berryessa/North San Jose to Daly City</td>\n",
       "      <td>Coliseum</td>\n",
       "      <td>37.753604</td>\n",
       "      <td>-122.196698</td>\n",
       "      <td>South</td>\n",
       "    </tr>\n",
       "    <tr>\n",
       "      <th>...</th>\n",
       "      <td>...</td>\n",
       "      <td>...</td>\n",
       "      <td>...</td>\n",
       "      <td>...</td>\n",
       "      <td>...</td>\n",
       "      <td>...</td>\n",
       "      <td>...</td>\n",
       "      <td>...</td>\n",
       "      <td>...</td>\n",
       "      <td>...</td>\n",
       "      <td>...</td>\n",
       "    </tr>\n",
       "    <tr>\n",
       "      <th>78469</th>\n",
       "      <td>20</td>\n",
       "      <td>1441578</td>\n",
       "      <td>1</td>\n",
       "      <td>24:43:00</td>\n",
       "      <td>OAKL</td>\n",
       "      <td>Beige-S</td>\n",
       "      <td>Coliseum to Oakland Airport</td>\n",
       "      <td>Oakland International Airport Station</td>\n",
       "      <td>37.713256</td>\n",
       "      <td>-122.212237</td>\n",
       "      <td>South</td>\n",
       "    </tr>\n",
       "    <tr>\n",
       "      <th>78470</th>\n",
       "      <td>20</td>\n",
       "      <td>1441581</td>\n",
       "      <td>1</td>\n",
       "      <td>24:53:00</td>\n",
       "      <td>COLS</td>\n",
       "      <td>Beige-S</td>\n",
       "      <td>Coliseum to Oakland Airport</td>\n",
       "      <td>Coliseum</td>\n",
       "      <td>37.753604</td>\n",
       "      <td>-122.196698</td>\n",
       "      <td>South</td>\n",
       "    </tr>\n",
       "    <tr>\n",
       "      <th>78471</th>\n",
       "      <td>20</td>\n",
       "      <td>1441581</td>\n",
       "      <td>1</td>\n",
       "      <td>25:01:00</td>\n",
       "      <td>OAKL</td>\n",
       "      <td>Beige-S</td>\n",
       "      <td>Coliseum to Oakland Airport</td>\n",
       "      <td>Oakland International Airport Station</td>\n",
       "      <td>37.713256</td>\n",
       "      <td>-122.212237</td>\n",
       "      <td>South</td>\n",
       "    </tr>\n",
       "    <tr>\n",
       "      <th>78472</th>\n",
       "      <td>20</td>\n",
       "      <td>1441582</td>\n",
       "      <td>1</td>\n",
       "      <td>25:11:00</td>\n",
       "      <td>COLS</td>\n",
       "      <td>Beige-S</td>\n",
       "      <td>Coliseum to Oakland Airport</td>\n",
       "      <td>Coliseum</td>\n",
       "      <td>37.753604</td>\n",
       "      <td>-122.196698</td>\n",
       "      <td>South</td>\n",
       "    </tr>\n",
       "    <tr>\n",
       "      <th>78473</th>\n",
       "      <td>20</td>\n",
       "      <td>1441582</td>\n",
       "      <td>1</td>\n",
       "      <td>25:19:00</td>\n",
       "      <td>OAKL</td>\n",
       "      <td>Beige-S</td>\n",
       "      <td>Coliseum to Oakland Airport</td>\n",
       "      <td>Oakland International Airport Station</td>\n",
       "      <td>37.713256</td>\n",
       "      <td>-122.212237</td>\n",
       "      <td>South</td>\n",
       "    </tr>\n",
       "  </tbody>\n",
       "</table>\n",
       "<p>78474 rows × 11 columns</p>\n",
       "</div>"
      ],
      "text/plain": [
       "      route_id  trip_id  direction_id arrival_time stop_id route_short_name  \\\n",
       "0            5  1462169             1     04:36:00    SHAY          Green-S   \n",
       "1            5  1462169             1     04:40:00    HAYW          Green-S   \n",
       "2            5  1462169             1     04:44:00    BAYF          Green-S   \n",
       "3            5  1462169             1     04:48:00    SANL          Green-S   \n",
       "4            5  1462169             1     04:52:00    COLS          Green-S   \n",
       "...        ...      ...           ...          ...     ...              ...   \n",
       "78469       20  1441578             1     24:43:00    OAKL          Beige-S   \n",
       "78470       20  1441581             1     24:53:00    COLS          Beige-S   \n",
       "78471       20  1441581             1     25:01:00    OAKL          Beige-S   \n",
       "78472       20  1441582             1     25:11:00    COLS          Beige-S   \n",
       "78473       20  1441582             1     25:19:00    OAKL          Beige-S   \n",
       "\n",
       "                             route_long_name  \\\n",
       "0      Berryessa/North San Jose to Daly City   \n",
       "1      Berryessa/North San Jose to Daly City   \n",
       "2      Berryessa/North San Jose to Daly City   \n",
       "3      Berryessa/North San Jose to Daly City   \n",
       "4      Berryessa/North San Jose to Daly City   \n",
       "...                                      ...   \n",
       "78469            Coliseum to Oakland Airport   \n",
       "78470            Coliseum to Oakland Airport   \n",
       "78471            Coliseum to Oakland Airport   \n",
       "78472            Coliseum to Oakland Airport   \n",
       "78473            Coliseum to Oakland Airport   \n",
       "\n",
       "                                   stop_name   stop_lat    stop_lon  \\\n",
       "0                              South Hayward  37.634363 -122.057158   \n",
       "1                                    Hayward  37.669731 -122.086941   \n",
       "2                                   Bay Fair  37.696938 -122.126431   \n",
       "3                                San Leandro  37.721806 -122.160713   \n",
       "4                                   Coliseum  37.753604 -122.196698   \n",
       "...                                      ...        ...         ...   \n",
       "78469  Oakland International Airport Station  37.713256 -122.212237   \n",
       "78470                               Coliseum  37.753604 -122.196698   \n",
       "78471  Oakland International Airport Station  37.713256 -122.212237   \n",
       "78472                               Coliseum  37.753604 -122.196698   \n",
       "78473  Oakland International Airport Station  37.713256 -122.212237   \n",
       "\n",
       "      direction_name  \n",
       "0              South  \n",
       "1              South  \n",
       "2              South  \n",
       "3              South  \n",
       "4              South  \n",
       "...              ...  \n",
       "78469          South  \n",
       "78470          South  \n",
       "78471          South  \n",
       "78472          South  \n",
       "78473          South  \n",
       "\n",
       "[78474 rows x 11 columns]"
      ]
     },
     "execution_count": 22,
     "metadata": {},
     "output_type": "execute_result"
    }
   ],
   "source": [
    "df_consolidated"
   ]
  },
  {
   "cell_type": "code",
   "execution_count": 35,
   "metadata": {},
   "outputs": [
    {
     "name": "stdout",
     "output_type": "stream",
     "text": [
      "User Guide: https://docs.kepler.gl/docs/keplergl-jupyter\n"
     ]
    }
   ],
   "source": [
    "from keplergl import KeplerGl\n",
    "map = KeplerGl()"
   ]
  },
  {
   "cell_type": "code",
   "execution_count": 36,
   "metadata": {},
   "outputs": [],
   "source": [
    "df_temp = df_stops_rel[~df_stops_rel['stop_name'].str.contains('Enter/Exit')].copy()"
   ]
  },
  {
   "cell_type": "code",
   "execution_count": 37,
   "metadata": {},
   "outputs": [],
   "source": [
    "map.add_data(data=df_temp, name='stops')"
   ]
  },
  {
   "cell_type": "code",
   "execution_count": 38,
   "metadata": {},
   "outputs": [
    {
     "data": {
      "application/vnd.jupyter.widget-view+json": {
       "model_id": "dca5e2a5f60b4fd29ff74a9370d71839",
       "version_major": 2,
       "version_minor": 0
      },
      "text/plain": [
       "KeplerGl(data={'stops': {'index': [0, 1, 2, 3, 4, 5, 6, 7, 8, 9, 10, 11, 12, 13, 14, 15, 16, 17, 18, 19, 20, 2…"
      ]
     },
     "metadata": {},
     "output_type": "display_data"
    }
   ],
   "source": [
    "map"
   ]
  },
  {
   "cell_type": "code",
   "execution_count": 107,
   "metadata": {},
   "outputs": [],
   "source": [
    "config_to_use = map.config"
   ]
  },
  {
   "cell_type": "code",
   "execution_count": 110,
   "metadata": {},
   "outputs": [],
   "source": [
    "import pickle"
   ]
  },
  {
   "cell_type": "code",
   "execution_count": 112,
   "metadata": {},
   "outputs": [],
   "source": [
    "with open('../consumer-service/config_to_use_kepler', 'wb') as f:\n",
    "    pickle.dump(config_to_use, f)"
   ]
  },
  {
   "cell_type": "code",
   "execution_count": 39,
   "metadata": {},
   "outputs": [],
   "source": [
    "df_consolidated_rel = df_consolidated[df_consolidated['stop_id'] == 'LAKE']"
   ]
  },
  {
   "cell_type": "code",
   "execution_count": 40,
   "metadata": {},
   "outputs": [
    {
     "data": {
      "text/html": [
       "<div>\n",
       "<style scoped>\n",
       "    .dataframe tbody tr th:only-of-type {\n",
       "        vertical-align: middle;\n",
       "    }\n",
       "\n",
       "    .dataframe tbody tr th {\n",
       "        vertical-align: top;\n",
       "    }\n",
       "\n",
       "    .dataframe thead th {\n",
       "        text-align: right;\n",
       "    }\n",
       "</style>\n",
       "<table border=\"1\" class=\"dataframe\">\n",
       "  <thead>\n",
       "    <tr style=\"text-align: right;\">\n",
       "      <th></th>\n",
       "      <th>route_id</th>\n",
       "      <th>trip_id</th>\n",
       "      <th>direction_id</th>\n",
       "      <th>arrival_time</th>\n",
       "      <th>stop_id</th>\n",
       "      <th>route_short_name</th>\n",
       "      <th>route_long_name</th>\n",
       "      <th>stop_name</th>\n",
       "      <th>stop_lat</th>\n",
       "      <th>stop_lon</th>\n",
       "      <th>direction_name</th>\n",
       "    </tr>\n",
       "  </thead>\n",
       "  <tbody>\n",
       "    <tr>\n",
       "      <th>6</th>\n",
       "      <td>5</td>\n",
       "      <td>1462169</td>\n",
       "      <td>1</td>\n",
       "      <td>05:00:00</td>\n",
       "      <td>LAKE</td>\n",
       "      <td>Green-S</td>\n",
       "      <td>Berryessa/North San Jose to Daly City</td>\n",
       "      <td>Lake Merritt</td>\n",
       "      <td>37.797357</td>\n",
       "      <td>-122.265232</td>\n",
       "      <td>South</td>\n",
       "    </tr>\n",
       "    <tr>\n",
       "      <th>33</th>\n",
       "      <td>5</td>\n",
       "      <td>1462163</td>\n",
       "      <td>1</td>\n",
       "      <td>05:40:00</td>\n",
       "      <td>LAKE</td>\n",
       "      <td>Green-S</td>\n",
       "      <td>Berryessa/North San Jose to Daly City</td>\n",
       "      <td>Lake Merritt</td>\n",
       "      <td>37.797357</td>\n",
       "      <td>-122.265232</td>\n",
       "      <td>South</td>\n",
       "    </tr>\n",
       "    <tr>\n",
       "      <th>54</th>\n",
       "      <td>6</td>\n",
       "      <td>1462220</td>\n",
       "      <td>0</td>\n",
       "      <td>05:26:00</td>\n",
       "      <td>LAKE</td>\n",
       "      <td>Green-N</td>\n",
       "      <td>Daly City to Berryessa/North San Jose</td>\n",
       "      <td>Lake Merritt</td>\n",
       "      <td>37.797357</td>\n",
       "      <td>-122.265232</td>\n",
       "      <td>North</td>\n",
       "    </tr>\n",
       "    <tr>\n",
       "      <th>72</th>\n",
       "      <td>5</td>\n",
       "      <td>1462168</td>\n",
       "      <td>1</td>\n",
       "      <td>05:20:00</td>\n",
       "      <td>LAKE</td>\n",
       "      <td>Green-S</td>\n",
       "      <td>Berryessa/North San Jose to Daly City</td>\n",
       "      <td>Lake Merritt</td>\n",
       "      <td>37.797357</td>\n",
       "      <td>-122.265232</td>\n",
       "      <td>South</td>\n",
       "    </tr>\n",
       "    <tr>\n",
       "      <th>99</th>\n",
       "      <td>5</td>\n",
       "      <td>1462121</td>\n",
       "      <td>1</td>\n",
       "      <td>06:00:00</td>\n",
       "      <td>LAKE</td>\n",
       "      <td>Green-S</td>\n",
       "      <td>Berryessa/North San Jose to Daly City</td>\n",
       "      <td>Lake Merritt</td>\n",
       "      <td>37.797357</td>\n",
       "      <td>-122.265232</td>\n",
       "      <td>South</td>\n",
       "    </tr>\n",
       "    <tr>\n",
       "      <th>...</th>\n",
       "      <td>...</td>\n",
       "      <td>...</td>\n",
       "      <td>...</td>\n",
       "      <td>...</td>\n",
       "      <td>...</td>\n",
       "      <td>...</td>\n",
       "      <td>...</td>\n",
       "      <td>...</td>\n",
       "      <td>...</td>\n",
       "      <td>...</td>\n",
       "      <td>...</td>\n",
       "    </tr>\n",
       "    <tr>\n",
       "      <th>77756</th>\n",
       "      <td>12</td>\n",
       "      <td>1481459</td>\n",
       "      <td>0</td>\n",
       "      <td>24:05:00</td>\n",
       "      <td>LAKE</td>\n",
       "      <td>Blue-N</td>\n",
       "      <td>Daly City to Dublin/Pleasanton</td>\n",
       "      <td>Lake Merritt</td>\n",
       "      <td>37.797357</td>\n",
       "      <td>-122.265232</td>\n",
       "      <td>North</td>\n",
       "    </tr>\n",
       "    <tr>\n",
       "      <th>77771</th>\n",
       "      <td>11</td>\n",
       "      <td>1481401</td>\n",
       "      <td>1</td>\n",
       "      <td>24:16:00</td>\n",
       "      <td>LAKE</td>\n",
       "      <td>Blue-S</td>\n",
       "      <td>Dublin/Pleasanton to Daly City</td>\n",
       "      <td>Lake Merritt</td>\n",
       "      <td>37.797357</td>\n",
       "      <td>-122.265232</td>\n",
       "      <td>South</td>\n",
       "    </tr>\n",
       "    <tr>\n",
       "      <th>77792</th>\n",
       "      <td>12</td>\n",
       "      <td>1481460</td>\n",
       "      <td>0</td>\n",
       "      <td>24:25:00</td>\n",
       "      <td>LAKE</td>\n",
       "      <td>Blue-N</td>\n",
       "      <td>Daly City to Dublin/Pleasanton</td>\n",
       "      <td>Lake Merritt</td>\n",
       "      <td>37.797357</td>\n",
       "      <td>-122.265232</td>\n",
       "      <td>North</td>\n",
       "    </tr>\n",
       "    <tr>\n",
       "      <th>77807</th>\n",
       "      <td>11</td>\n",
       "      <td>1481402</td>\n",
       "      <td>1</td>\n",
       "      <td>24:36:00</td>\n",
       "      <td>LAKE</td>\n",
       "      <td>Blue-S</td>\n",
       "      <td>Dublin/Pleasanton to Daly City</td>\n",
       "      <td>Lake Merritt</td>\n",
       "      <td>37.797357</td>\n",
       "      <td>-122.265232</td>\n",
       "      <td>South</td>\n",
       "    </tr>\n",
       "    <tr>\n",
       "      <th>77828</th>\n",
       "      <td>12</td>\n",
       "      <td>1481462</td>\n",
       "      <td>0</td>\n",
       "      <td>24:47:00</td>\n",
       "      <td>LAKE</td>\n",
       "      <td>Blue-N</td>\n",
       "      <td>Daly City to Dublin/Pleasanton</td>\n",
       "      <td>Lake Merritt</td>\n",
       "      <td>37.797357</td>\n",
       "      <td>-122.265232</td>\n",
       "      <td>North</td>\n",
       "    </tr>\n",
       "  </tbody>\n",
       "</table>\n",
       "<p>1924 rows × 11 columns</p>\n",
       "</div>"
      ],
      "text/plain": [
       "      route_id  trip_id  direction_id arrival_time stop_id route_short_name  \\\n",
       "6            5  1462169             1     05:00:00    LAKE          Green-S   \n",
       "33           5  1462163             1     05:40:00    LAKE          Green-S   \n",
       "54           6  1462220             0     05:26:00    LAKE          Green-N   \n",
       "72           5  1462168             1     05:20:00    LAKE          Green-S   \n",
       "99           5  1462121             1     06:00:00    LAKE          Green-S   \n",
       "...        ...      ...           ...          ...     ...              ...   \n",
       "77756       12  1481459             0     24:05:00    LAKE           Blue-N   \n",
       "77771       11  1481401             1     24:16:00    LAKE           Blue-S   \n",
       "77792       12  1481460             0     24:25:00    LAKE           Blue-N   \n",
       "77807       11  1481402             1     24:36:00    LAKE           Blue-S   \n",
       "77828       12  1481462             0     24:47:00    LAKE           Blue-N   \n",
       "\n",
       "                             route_long_name     stop_name   stop_lat  \\\n",
       "6      Berryessa/North San Jose to Daly City  Lake Merritt  37.797357   \n",
       "33     Berryessa/North San Jose to Daly City  Lake Merritt  37.797357   \n",
       "54     Daly City to Berryessa/North San Jose  Lake Merritt  37.797357   \n",
       "72     Berryessa/North San Jose to Daly City  Lake Merritt  37.797357   \n",
       "99     Berryessa/North San Jose to Daly City  Lake Merritt  37.797357   \n",
       "...                                      ...           ...        ...   \n",
       "77756         Daly City to Dublin/Pleasanton  Lake Merritt  37.797357   \n",
       "77771         Dublin/Pleasanton to Daly City  Lake Merritt  37.797357   \n",
       "77792         Daly City to Dublin/Pleasanton  Lake Merritt  37.797357   \n",
       "77807         Dublin/Pleasanton to Daly City  Lake Merritt  37.797357   \n",
       "77828         Daly City to Dublin/Pleasanton  Lake Merritt  37.797357   \n",
       "\n",
       "         stop_lon direction_name  \n",
       "6     -122.265232          South  \n",
       "33    -122.265232          South  \n",
       "54    -122.265232          North  \n",
       "72    -122.265232          South  \n",
       "99    -122.265232          South  \n",
       "...           ...            ...  \n",
       "77756 -122.265232          North  \n",
       "77771 -122.265232          South  \n",
       "77792 -122.265232          North  \n",
       "77807 -122.265232          South  \n",
       "77828 -122.265232          North  \n",
       "\n",
       "[1924 rows x 11 columns]"
      ]
     },
     "execution_count": 40,
     "metadata": {},
     "output_type": "execute_result"
    }
   ],
   "source": [
    "df_consolidated_rel"
   ]
  },
  {
   "cell_type": "code",
   "execution_count": 46,
   "metadata": {},
   "outputs": [
    {
     "data": {
      "text/plain": [
       "1701964054"
      ]
     },
     "execution_count": 46,
     "metadata": {},
     "output_type": "execute_result"
    }
   ],
   "source": [
    "max(df['timestamp_id'].values)"
   ]
  },
  {
   "cell_type": "code",
   "execution_count": 75,
   "metadata": {},
   "outputs": [],
   "source": [
    "def convert_to_pst(timeepoch):\n",
    "    utc_time = time.gmtime(timeepoch)\n",
    "    return f\"{utc_time.tm_hour - 8:02}:{utc_time.tm_min:02}\""
   ]
  },
  {
   "cell_type": "code",
   "execution_count": 76,
   "metadata": {},
   "outputs": [],
   "source": [
    "a = convert_to_pst(1701964054)"
   ]
  },
  {
   "cell_type": "code",
   "execution_count": 77,
   "metadata": {},
   "outputs": [
    {
     "data": {
      "text/plain": [
       "'07:47'"
      ]
     },
     "execution_count": 77,
     "metadata": {},
     "output_type": "execute_result"
    }
   ],
   "source": [
    "a"
   ]
  },
  {
   "cell_type": "code",
   "execution_count": 56,
   "metadata": {},
   "outputs": [
    {
     "data": {
      "text/plain": [
       "(7, 47)"
      ]
     },
     "execution_count": 56,
     "metadata": {},
     "output_type": "execute_result"
    }
   ],
   "source": [
    "a.tm_hour - 8, a.tm_min"
   ]
  },
  {
   "cell_type": "code",
   "execution_count": 45,
   "metadata": {},
   "outputs": [
    {
     "data": {
      "text/html": [
       "<div>\n",
       "<style scoped>\n",
       "    .dataframe tbody tr th:only-of-type {\n",
       "        vertical-align: middle;\n",
       "    }\n",
       "\n",
       "    .dataframe tbody tr th {\n",
       "        vertical-align: top;\n",
       "    }\n",
       "\n",
       "    .dataframe thead th {\n",
       "        text-align: right;\n",
       "    }\n",
       "</style>\n",
       "<table border=\"1\" class=\"dataframe\">\n",
       "  <thead>\n",
       "    <tr style=\"text-align: right;\">\n",
       "      <th></th>\n",
       "      <th>timestamp_id</th>\n",
       "      <th>time_expected</th>\n",
       "      <th>trip_id</th>\n",
       "      <th>stop_id</th>\n",
       "      <th>delay</th>\n",
       "    </tr>\n",
       "  </thead>\n",
       "  <tbody>\n",
       "    <tr>\n",
       "      <th>1355</th>\n",
       "      <td>1701964054</td>\n",
       "      <td>1701964145</td>\n",
       "      <td>1461686</td>\n",
       "      <td>LAKE</td>\n",
       "      <td>42</td>\n",
       "    </tr>\n",
       "    <tr>\n",
       "      <th>1145</th>\n",
       "      <td>1701964054</td>\n",
       "      <td>1701964112</td>\n",
       "      <td>1462174</td>\n",
       "      <td>LAKE</td>\n",
       "      <td>69</td>\n",
       "    </tr>\n",
       "    <tr>\n",
       "      <th>3872</th>\n",
       "      <td>1701964024</td>\n",
       "      <td>1701964145</td>\n",
       "      <td>1461686</td>\n",
       "      <td>LAKE</td>\n",
       "      <td>42</td>\n",
       "    </tr>\n",
       "    <tr>\n",
       "      <th>5324</th>\n",
       "      <td>1701964024</td>\n",
       "      <td>1701964112</td>\n",
       "      <td>1462174</td>\n",
       "      <td>LAKE</td>\n",
       "      <td>69</td>\n",
       "    </tr>\n",
       "    <tr>\n",
       "      <th>1542</th>\n",
       "      <td>1701963993</td>\n",
       "      <td>1701964145</td>\n",
       "      <td>1461686</td>\n",
       "      <td>LAKE</td>\n",
       "      <td>42</td>\n",
       "    </tr>\n",
       "    <tr>\n",
       "      <th>...</th>\n",
       "      <td>...</td>\n",
       "      <td>...</td>\n",
       "      <td>...</td>\n",
       "      <td>...</td>\n",
       "      <td>...</td>\n",
       "    </tr>\n",
       "    <tr>\n",
       "      <th>1470</th>\n",
       "      <td>1701961740</td>\n",
       "      <td>1701961706</td>\n",
       "      <td>1461684</td>\n",
       "      <td>LAKE</td>\n",
       "      <td>4</td>\n",
       "    </tr>\n",
       "    <tr>\n",
       "      <th>5043</th>\n",
       "      <td>1701961709</td>\n",
       "      <td>1701961754</td>\n",
       "      <td>1462172</td>\n",
       "      <td>LAKE</td>\n",
       "      <td>110</td>\n",
       "    </tr>\n",
       "    <tr>\n",
       "      <th>5475</th>\n",
       "      <td>1701961709</td>\n",
       "      <td>1701961706</td>\n",
       "      <td>1461684</td>\n",
       "      <td>LAKE</td>\n",
       "      <td>4</td>\n",
       "    </tr>\n",
       "    <tr>\n",
       "      <th>4973</th>\n",
       "      <td>1701961679</td>\n",
       "      <td>1701961706</td>\n",
       "      <td>1461684</td>\n",
       "      <td>LAKE</td>\n",
       "      <td>4</td>\n",
       "    </tr>\n",
       "    <tr>\n",
       "      <th>3765</th>\n",
       "      <td>1701961679</td>\n",
       "      <td>1701961754</td>\n",
       "      <td>1462172</td>\n",
       "      <td>LAKE</td>\n",
       "      <td>110</td>\n",
       "    </tr>\n",
       "  </tbody>\n",
       "</table>\n",
       "<p>109 rows × 5 columns</p>\n",
       "</div>"
      ],
      "text/plain": [
       "      timestamp_id  time_expected  trip_id stop_id  delay\n",
       "1355    1701964054     1701964145  1461686    LAKE     42\n",
       "1145    1701964054     1701964112  1462174    LAKE     69\n",
       "3872    1701964024     1701964145  1461686    LAKE     42\n",
       "5324    1701964024     1701964112  1462174    LAKE     69\n",
       "1542    1701963993     1701964145  1461686    LAKE     42\n",
       "...            ...            ...      ...     ...    ...\n",
       "1470    1701961740     1701961706  1461684    LAKE      4\n",
       "5043    1701961709     1701961754  1462172    LAKE    110\n",
       "5475    1701961709     1701961706  1461684    LAKE      4\n",
       "4973    1701961679     1701961706  1461684    LAKE      4\n",
       "3765    1701961679     1701961754  1462172    LAKE    110\n",
       "\n",
       "[109 rows x 5 columns]"
      ]
     },
     "execution_count": 45,
     "metadata": {},
     "output_type": "execute_result"
    }
   ],
   "source": [
    "df[df['stop_id']==\"LAKE\"].sort_values(by='timestamp_id', ascending=False).head"
   ]
  },
  {
   "cell_type": "code",
   "execution_count": null,
   "metadata": {},
   "outputs": [],
   "source": []
  }
 ],
 "metadata": {
  "kernelspec": {
   "display_name": "Python 3.11.6 ('.app': venv)",
   "language": "python",
   "name": "python3"
  },
  "language_info": {
   "codemirror_mode": {
    "name": "ipython",
    "version": 3
   },
   "file_extension": ".py",
   "mimetype": "text/x-python",
   "name": "python",
   "nbconvert_exporter": "python",
   "pygments_lexer": "ipython3",
   "version": "3.11.6"
  },
  "orig_nbformat": 4,
  "vscode": {
   "interpreter": {
    "hash": "9eb6abb3dbdf838da65fe2f1afd0ff0ea9465061047c56ad0617a38609743330"
   }
  }
 },
 "nbformat": 4,
 "nbformat_minor": 2
}
